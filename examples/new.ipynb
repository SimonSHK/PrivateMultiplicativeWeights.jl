{
 "cells": [
  {
   "cell_type": "code",
   "execution_count": 66,
   "metadata": {},
   "outputs": [
    {
     "name": "stdout",
     "output_type": "stream",
     "text": [
      "Iter.\t Mean sq err\t time (sec)\n",
      "0\t 0.002\t\t 0.018\n",
      "itr: 1\t mean_error: 0.002\t\t 0.077\n",
      "itr: 1\t max_error: 0.508\t\t 0.077\n",
      "itr: 2\t mean_error: 0.001\t\t 0.170\n",
      "itr: 2\t max_error: 0.494\t\t 0.170\n",
      "itr: 3\t mean_error: 0.001\t\t 0.224\n",
      "itr: 3\t max_error: 0.609\t\t 0.224\n",
      "itr: 4\t mean_error: 0.001\t\t 0.289\n",
      "itr: 4\t max_error: 0.112\t\t 0.289\n",
      "itr: 5\t mean_error: 0.001\t\t 0.334\n",
      "itr: 5\t max_error: 0.102\t\t 0.334\n",
      "itr: 6\t mean_error: 0.001\t\t 0.390\n",
      "itr: 6\t max_error: 0.098\t\t 0.390\n",
      "itr: 7\t mean_error: 0.001\t\t 0.450\n",
      "itr: 7\t max_error: 0.098\t\t 0.450\n",
      "itr: 8\t mean_error: 0.001\t\t 0.524\n",
      "itr: 8\t max_error: 0.098\t\t 0.524\n",
      "itr: 9\t mean_error: 0.001\t\t 0.576\n",
      "itr: 9\t max_error: 0.094\t\t 0.576\n",
      "itr: 10\t mean_error: 0.001\t\t 0.655\n",
      "itr: 10\t max_error: 0.094\t\t 0.655\n"
     ]
    },
    {
     "data": {
      "text/plain": [
       "PrivateMultiplicativeWeights.MWState(Histogram([0.0, 0.0, 0.0, 0.0, 0.0, 0.0, 0.0, 0.0, 0.0, 0.0  …  0.0, 0.0, 0.0, 0.0, 0.0, 0.0, 0.0, 0.0, 0.0, 0.0], 1000), Histogram([1.528503385274321e-6, 1.528503385274321e-6, 1.579689099902819e-6, 1.579689099902819e-6, 1.8691820278258592e-6, 1.8691820278258592e-6, 1.931776209027386e-6, 1.931776209027386e-6, 1.528503385274321e-6, 1.528503385274321e-6  …  2.2052957820988827e-6, 2.2052957820988827e-6, 1.7449236887364248e-6, 1.7449236887364248e-6, 1.8033567722615444e-6, 1.8033567722615444e-6, 2.1338389108823404e-6, 2.1338389108823404e-6, 2.2052957820988827e-6, 2.2052957820988827e-6], 0), Parities(20, 3, [1, 2, 3, 4, 5, 6, 7, 8, 9, 10  …  786689, 786945, 787457, 788481, 790529, 794625, 802817, 819201, 851969, 917505]), [1.0, -0.001999999999999999, -0.020000000000000004, 0.03799999999999999, -0.018000000000000002, 0.032, 0.046, 0.028000000000000004, 0.027999999999999997, 0.03  …  -0.052000000000000005, 0.042, -0.036000000000000004, -0.046, 0.004000000000000005, -0.024000000000000007, -0.076, -0.00399999999999999, -0.08600000000000003, -0.494], Dict(835 => 0.5171973130471041, 790 => 0.10000008788424854, 41 => -0.10026785918378688, 1315 => 0.4751586054800565, 1209 => 0.09919832781887394, 693 => -0.09185231085438031, 410 => -0.11547762730156207, 153 => -0.09355644685698498, 1143 => 0.5181662736520053, 1351 => -0.4909127928160499…), 0.002)"
      ]
     },
     "metadata": {},
     "output_type": "display_data"
    }
   ],
   "source": [
    "using PrivateMultiplicativeWeights\n",
    "using Distributions\n",
    "using PyPlot\n",
    "using Random\n",
    "# include(\"./marginals.jl\")\n",
    "include(\"../examples/marginals.jl\")"
   ]
  },
  {
   "cell_type": "code",
   "execution_count": 48,
   "metadata": {},
   "outputs": [
    {
     "data": {
      "image/png": "[encoded data removed]",
      "text/plain": [
       "Figure(PyObject <Figure size 640x480 with 1 Axes>)"
      ]
     },
     "metadata": {},
     "output_type": "display_data"
    }
   ],
   "source": [
    "d_continuous = Truncated(MixtureModel(Normal, [(.275, .075), (.65, .1)], [0.65, 0.35]), 0, 1)\n",
    "xs = range(d_continuous.lower, stop = d_continuous.upper, length = 300)\n",
    "ys = pdf(d_continuous, xs)\n",
    "#xs = [1, 2, 3]\n",
    "#ys = [1, 2, 3]\n",
    "p = plot(xs, ys)\n",
    "display(gcf())"
   ]
  },
  {
   "cell_type": "code",
   "execution_count": 63,
   "metadata": {},
   "outputs": [
    {
     "name": "stdout",
     "output_type": "stream",
     "text": [
      "Iter.\t Mean sq err\t time (sec)\n",
      "0\t 0.002\t\t 0.020\n",
      "itr: 1\t mean_error: 0.002\t\t 0.214\n",
      "itr: 1\t max_error: 0.508\t\t 0.214\n",
      "itr: 2\t mean_error: 0.001\t\t 0.147\n",
      "itr: 2\t max_error: 0.508\t\t 0.147\n",
      "itr: 3\t mean_error: 0.001\t\t 0.232\n",
      "itr: 3\t max_error: 0.605\t\t 0.232\n",
      "itr: 4\t mean_error: 0.001\t\t 0.268\n",
      "itr: 4\t max_error: 0.100\t\t 0.268\n",
      "itr: 5\t mean_error: 0.001\t\t 0.340\n",
      "itr: 5\t max_error: 0.092\t\t 0.340\n",
      "itr: 6\t mean_error: 0.001\t\t 0.392\n",
      "itr: 6\t max_error: 0.092\t\t 0.392\n",
      "itr: 7\t mean_error: 0.001\t\t 0.457\n",
      "itr: 7\t max_error: 0.092\t\t 0.457\n",
      "itr: 8\t mean_error: 0.001\t\t 0.518\n",
      "itr: 8\t max_error: 0.092\t\t 0.518\n",
      "itr: 9\t mean_error: 0.001\t\t 0.579\n",
      "itr: 9\t max_error: 0.092\t\t 0.579\n",
      "itr: 10\t mean_error: 0.001\t\t 0.650\n",
      "itr: 10\t max_error: 0.092\t\t 0.650\n"
     ]
    },
    {
     "ename": "MethodError",
     "evalue": "MethodError: no method matching getindex(::PrivateMultiplicativeWeights.MWState, ::Int64)",
     "output_type": "error",
     "traceback": [
      "MethodError: no method matching getindex(::PrivateMultiplicativeWeights.MWState, ::Int64)\n",
      "\n",
      "Stacktrace:\n",
      " [1] top-level scope\n",
      "   @ ~/Documents/Grad School/Classes/Spring 2024/DP/final_project/PMW_fork/PrivateMultiplicativeWeights.jl/examples/new.ipynb:2"
     ]
    }
   ],
   "source": [
    "mw = marginals()\n",
    "print(typeof(mw[2]))"
   ]
  },
  {
   "cell_type": "markdown",
   "metadata": {},
   "source": [
    "Obtaining a private approximation is as easy as running the following command."
   ]
  },
  {
   "cell_type": "code",
   "execution_count": 70,
   "metadata": {},
   "outputs": [
    {
     "name": "stdout",
     "output_type": "stream",
     "text": [
      "Iter.\t Mean sq err\t time (sec)\n",
      "0\t 0.002\t\t 0.088\n",
      "itr: 1\t mean_error: 0.002\t\t 0.091\n",
      "itr: 1\t max_error: 0.508\t\t 0.091\n",
      "itr: 2\t mean_error: 0.001\t\t 0.152\n",
      "itr: 2\t max_error: 0.502\t\t 0.152\n",
      "itr: 3\t mean_error: 0.001\t\t 0.216\n",
      "itr: 3\t max_error: 0.588\t\t 0.216\n",
      "itr: 4\t mean_error: 0.001\t\t 0.273\n",
      "itr: 4\t max_error: 0.114\t\t 0.273\n",
      "itr: 5\t mean_error: 0.001\t\t 0.361\n",
      "itr: 5\t max_error: 0.114\t\t 0.361\n",
      "itr: 6\t mean_error: 0.001\t\t 0.409\n",
      "itr: 6\t max_error: 0.102\t\t 0.409\n",
      "itr: 7\t mean_error: 0.001\t\t 0.451\n",
      "itr: 7\t max_error: 0.102\t\t 0.451\n",
      "itr: 8\t mean_error: 0.001\t\t 0.511\n",
      "itr: 8\t max_error: 0.098\t\t 0.511\n",
      "itr: 9\t mean_error: 0.001\t\t 0.572\n",
      "itr: 9\t max_error: 0.094\t\t 0.572\n",
      "itr: 10\t mean_error: 0.001\t\t 0.642\n",
      "itr: 10\t max_error: 0.094\t\t 0.642\n"
     ]
    },
    {
     "ename": "MethodError",
     "evalue": "MethodError: no method matching getindex(::PrivateMultiplicativeWeights.MWState, ::Int64)",
     "output_type": "error",
     "traceback": [
      "MethodError: no method matching getindex(::PrivateMultiplicativeWeights.MWState, ::Int64)\n",
      "\n",
      "Stacktrace:\n",
      " [1] marginals(d::Int64, order::Int64, n::Int64)\n",
      "   @ Main ~/Documents/Grad School/Classes/Spring 2024/DP/final_project/PMW_fork/PrivateMultiplicativeWeights.jl/examples/new.ipynb:5\n",
      " [2] marginals()\n",
      "   @ Main ~/Documents/Grad School/Classes/Spring 2024/DP/final_project/PMW_fork/PrivateMultiplicativeWeights.jl/examples/new.ipynb:2\n",
      " [3] top-level scope\n",
      "   @ ~/Documents/Grad School/Classes/Spring 2024/DP/final_project/PMW_fork/PrivateMultiplicativeWeights.jl/examples/new.ipynb:8"
     ]
    }
   ],
   "source": [
    "function marginals(d=20, order=3, n=1000)\n",
    "    data_matrix = rand(0:1, d, n)\n",
    "    data_matrix[3, :] = data_matrix[1, :] .* data_matrix[2, :]\n",
    "    mw = mwem(Parities(d, order), Tabular(data_matrix), MWParameters(epsilon = 1, verbose=true))\n",
    "    print(\"times: \", typeof(mw[2][1]), mw[2][1])\n",
    "    return mw\n",
    "end\n",
    "mw = marginals()"
   ]
  },
  {
   "cell_type": "code",
   "execution_count": 59,
   "metadata": {},
   "outputs": [
    {
     "ename": "MethodError",
     "evalue": "MethodError: no method matching round(::Type{Int64}, ::Vector{Float64}, ::RoundingMode{:Nearest})\n\nClosest candidates are:\n  round(::Type{T}, !Matched::BigFloat, ::RoundingMode) where T<:Union{Signed, Unsigned}\n   @ Base mpfr.jl:351\n  round(::Type{<:Integer}, !Matched::BigFloat, ::RoundingMode)\n   @ Base mpfr.jl:355\n  round(::Type{T}, !Matched::BigFloat, ::Union{Base.MPFR.MPFRRoundingMode, RoundingMode}) where T<:Union{Signed, Unsigned}\n   @ Base mpfr.jl:335\n  ...\n",
     "output_type": "error",
     "traceback": [
      "MethodError: no method matching round(::Type{Int64}, ::Vector{Float64}, ::RoundingMode{:Nearest})\n",
      "\n",
      "Closest candidates are:\n",
      "  round(::Type{T}, !Matched::BigFloat, ::RoundingMode) where T<:Union{Signed, Unsigned}\n",
      "   @ Base mpfr.jl:351\n",
      "  round(::Type{<:Integer}, !Matched::BigFloat, ::RoundingMode)\n",
      "   @ Base mpfr.jl:355\n",
      "  round(::Type{T}, !Matched::BigFloat, ::Union{Base.MPFR.MPFRRoundingMode, RoundingMode}) where T<:Union{Signed, Unsigned}\n",
      "   @ Base mpfr.jl:335\n",
      "  ...\n",
      "\n",
      "\n",
      "Stacktrace:\n",
      " [1] histogram_from_sample(samples::Vector{Float64}, num_bins::Int64)\n",
      "   @ Main ~/Documents/Grad School/Classes/Spring 2024/DP/final_project/PMW_fork/PrivateMultiplicativeWeights.jl/examples/new.ipynb:9\n",
      " [2] top-level scope\n",
      "   @ ~/Documents/Grad School/Classes/Spring 2024/DP/final_project/PMW_fork/PrivateMultiplicativeWeights.jl/examples/new.ipynb:15"
     ]
    }
   ],
   "source": [
    "num_samples = 1000\n",
    "domain_size = 100\n",
    "samples = rand(d_continuous, num_samples)\n",
    "\n",
    "function histogram_from_sample(samples, num_bins)\n",
    "    @assert 0 <= minimum(samples)\n",
    "    @assert maximum(samples) <= 1\n",
    "    h = zeros(num_bins)\n",
    "    for x in round(Int64, samples*num_bins, RoundNearest)\n",
    "        h[x] += 1\n",
    "    end\n",
    "    collect(1:num_bins)/num_bins, h\n",
    "end\n",
    "\n",
    "xs, ys = histogram_from_sample(samples, domain_size)\n",
    "bar(xs, ys, width=1/domain_size);"
   ]
  },
  {
   "cell_type": "code",
   "execution_count": 60,
   "metadata": {},
   "outputs": [
    {
     "ename": "AssertionError",
     "evalue": "AssertionError: queries.domain == length(h.weights)",
     "output_type": "error",
     "traceback": [
      "AssertionError: queries.domain == length(h.weights)\n",
      "\n",
      "Stacktrace:\n",
      " [1] evaluate(queries::SeriesRangeQueries, h::Histogram)\n",
      "   @ PrivateMultiplicativeWeights ~/.julia/packages/PrivateMultiplicativeWeights/WzSTX/src/rangequeries.jl:104\n",
      " [2] initialize(queries::SeriesRangeQueries, data::Histogram, ps::MWParameters)\n",
      "   @ PrivateMultiplicativeWeights ~/.julia/packages/PrivateMultiplicativeWeights/WzSTX/src/histogram.jl:70\n",
      " [3] macro expansion\n",
      "   @ ./timing.jl:395 [inlined]\n",
      " [4] mwem(queries::SeriesRangeQueries, data::Histogram, ps::MWParameters)\n",
      "   @ PrivateMultiplicativeWeights ~/.julia/packages/PrivateMultiplicativeWeights/WzSTX/src/mwem.jl:60\n",
      " [5] top-level scope\n",
      "   @ ~/Documents/Grad School/Classes/Spring 2024/DP/final_project/PMW_fork/PrivateMultiplicativeWeights.jl/examples/new.ipynb:3"
     ]
    }
   ],
   "source": [
    "num_samples = 1000\n",
    "domain_size = 100\n",
    "samples = rand(d_continuous, num_samples)\n",
    "mw = mwem(SeriesRangeQueries(domain_size), Histogram(ys/sum(ys), num_samples));\n",
    "bar(xs, mw.synthetic.weights*num_samples, align=\"center\", color=\"red\", alpha=0.3, width=1/domain_size);"
   ]
  },
  {
   "cell_type": "markdown",
   "metadata": {},
   "source": [
    "Above we ran `mwem` with the default parameters corresponding to `10` iterations and `epsilon=1.0` per iteration. We can adjust these parameters as follows:"
   ]
  },
  {
   "cell_type": "code",
   "execution_count": null,
   "metadata": {},
   "outputs": [],
   "source": [
    "mw = mwem(SeriesRangeQueries(domain_size), Histogram(ys/sum(ys), num_samples), MWParameters(epsilon=0.1, iterations=8));\n",
    "bar(xs, mw.synthetic.weights*num_samples, align=\"center\", color=\"red\", alpha=0.3, width=1/domain_size);"
   ]
  },
  {
   "cell_type": "markdown",
   "metadata": {},
   "source": [
    "### Side-by-side comparison"
   ]
  },
  {
   "cell_type": "code",
   "execution_count": null,
   "metadata": {},
   "outputs": [],
   "source": [
    "bar(xs, ys, 1/domain_size);\n",
    "bar(xs, mw.synthetic.weights*num_samples, align=\"center\", color=\"red\", alpha=0.3, width=1/domain_size);"
   ]
  },
  {
   "cell_type": "code",
   "execution_count": null,
   "metadata": {},
   "outputs": [],
   "source": [
    "mw = mwem(SeriesRangeQueries(domain_size), Histogram(ys/sum(ys), num_samples));\n",
    "bar(xs, mw.synthetic.weights*num_samples, align=\"center\", color=\"red\", alpha=0.3, width=1/domain_size);"
   ]
  },
  {
   "cell_type": "code",
   "execution_count": null,
   "metadata": {},
   "outputs": [],
   "source": [
    "mw, mean_errors, max_errors, times = mwem(SeriesRangeQueries(domain_size), Histogram(ys/sum(ys), num_samples), MWParameters(epsilon=0.1, iterations=8));\n",
    "bar(xs, mw.synthetic.weights*num_samples, align=\"center\", color=\"red\", alpha=0.3, width=1/domain_size);"
   ]
  }
 ],
 "metadata": {
  "kernelspec": {
   "display_name": "Julia 1.10.4",
   "language": "julia",
   "name": "julia-1.10"
  },
  "language_info": {
   "file_extension": ".jl",
   "mimetype": "application/julia",
   "name": "julia",
   "version": "1.10.4"
  }
 },
 "nbformat": 4,
 "nbformat_minor": 2
}
